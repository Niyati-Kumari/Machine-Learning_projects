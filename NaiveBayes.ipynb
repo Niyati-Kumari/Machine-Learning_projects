{
 "cells": [
  {
   "cell_type": "code",
   "execution_count": 3,
   "id": "00287831-3cdd-4944-a452-43fc909b4574",
   "metadata": {},
   "outputs": [
    {
     "name": "stdout",
     "output_type": "stream",
     "text": [
      "Naive Bayes:\n",
      "Accuracy: 0.7518248175182481\n",
      "Precision: 0.7659574468085106\n",
      "Recall: 0.6101694915254238\n",
      "F1 Score: 0.6792452830188679\n",
      "Confusion Matrix:\n",
      "[[67 11]\n",
      " [23 36]]\n",
      "Decision Tree:\n",
      "Accuracy: 0.7372262773722628\n",
      "Precision: 0.7090909090909091\n",
      "Recall: 0.6610169491525424\n",
      "F1 Score: 0.6842105263157895\n",
      "Confusion Matrix:\n",
      "[[62 16]\n",
      " [20 39]]\n"
     ]
    }
   ],
   "source": [
    "import pandas as pd\n",
    "\n",
    "# Load the dataset\n",
    "df = pd.read_csv(\"Downloads/archive (1)/Housing.csv\")\n",
    "\n",
    "# Convert price into binary labels: 1 if above average, 0 if below average\n",
    "average_price = df['price'].mean()\n",
    "df['price_label'] = (df['price'] > average_price).astype(int)\n",
    "\n",
    "# Prepare features and target for classification\n",
    "X = df[[\"area\", \"bedrooms\", \"bathrooms\"]]\n",
    "y = df[\"price_label\"]\n",
    "\n",
    "from sklearn.model_selection import train_test_split\n",
    "\n",
    "# Split the data into training and testing sets\n",
    "X_train, X_test, y_train, y_test = train_test_split(X, y, test_size=0.25, random_state=2)\n",
    "from sklearn.naive_bayes import GaussianNB\n",
    "from sklearn.metrics import accuracy_score, precision_score, recall_score, f1_score, confusion_matrix\n",
    "\n",
    "# Initialize and train the Naive Bayes model\n",
    "nb = GaussianNB()\n",
    "nb.fit(X_train, y_train)\n",
    "\n",
    "# Make predictions\n",
    "y_pred_nb = nb.predict(X_test)\n",
    "\n",
    "# Evaluate Naive Bayes\n",
    "accuracy_nb = accuracy_score(y_test, y_pred_nb)\n",
    "precision_nb = precision_score(y_test, y_pred_nb)\n",
    "recall_nb = recall_score(y_test, y_pred_nb)\n",
    "f1_nb = f1_score(y_test, y_pred_nb)\n",
    "conf_matrix_nb = confusion_matrix(y_test, y_pred_nb)\n",
    "\n",
    "print(\"Naive Bayes:\")\n",
    "print(f\"Accuracy: {accuracy_nb}\")\n",
    "print(f\"Precision: {precision_nb}\")\n",
    "print(f\"Recall: {recall_nb}\")\n",
    "print(f\"F1 Score: {f1_nb}\")\n",
    "print(f\"Confusion Matrix:\\n{conf_matrix_nb}\")\n",
    "\n",
    "from sklearn.tree import DecisionTreeClassifier\n",
    "\n",
    "# Initialize and train the Decision Tree model\n",
    "dt = DecisionTreeClassifier(random_state=2)\n",
    "dt.fit(X_train, y_train)\n",
    "\n",
    "# Make predictions\n",
    "y_pred_dt = dt.predict(X_test)\n",
    "\n",
    "# Evaluate Decision Tree\n",
    "accuracy_dt = accuracy_score(y_test, y_pred_dt)\n",
    "precision_dt = precision_score(y_test, y_pred_dt)\n",
    "recall_dt = recall_score(y_test, y_pred_dt)\n",
    "f1_dt = f1_score(y_test, y_pred_dt)\n",
    "conf_matrix_dt = confusion_matrix(y_test, y_pred_dt)\n",
    "\n",
    "print(\"Decision Tree:\")\n",
    "print(f\"Accuracy: {accuracy_dt}\")\n",
    "print(f\"Precision: {precision_dt}\")\n",
    "print(f\"Recall: {recall_dt}\")\n",
    "print(f\"F1 Score: {f1_dt}\")\n",
    "print(f\"Confusion Matrix:\\n{conf_matrix_dt}\")\n"
   ]
  },
  {
   "cell_type": "code",
   "execution_count": null,
   "id": "285fbc99-9e4d-405b-a571-db8d39671644",
   "metadata": {},
   "outputs": [],
   "source": []
  }
 ],
 "metadata": {
  "kernelspec": {
   "display_name": "Python 3 (ipykernel)",
   "language": "python",
   "name": "python3"
  },
  "language_info": {
   "codemirror_mode": {
    "name": "ipython",
    "version": 3
   },
   "file_extension": ".py",
   "mimetype": "text/x-python",
   "name": "python",
   "nbconvert_exporter": "python",
   "pygments_lexer": "ipython3",
   "version": "3.12.4"
  }
 },
 "nbformat": 4,
 "nbformat_minor": 5
}
